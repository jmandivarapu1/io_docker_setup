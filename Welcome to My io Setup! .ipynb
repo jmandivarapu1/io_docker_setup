{
 "cells": [
  {
   "cell_type": "markdown",
   "metadata": {},
   "source": [
    "<font color=\"magenta\" size=\"7\">Docker Setup for IO</font>"
   ]
  },
  {
   "cell_type": "markdown",
   "metadata": {},
   "source": [
    "\n",
    "This file explains hows I setup the docker file for IO. *Please Note* this is meant to be used as a reference for later adaptations, just running lines line by line won't work.\n",
    "\n",
    "**Notes about First Setup**\n",
    "* A lot of extra code has to be written because I couldn't figure out how to pull the cytoscape.js file directly in jupyter. That's somethign that should be fixd.\n",
    "\n"
   ]
  },
  {
   "cell_type": "markdown",
   "metadata": {},
   "source": [
    "# Get Base Docker"
   ]
  },
  {
   "cell_type": "markdown",
   "metadata": {},
   "source": [
    "I build my docker image off of whatever is hte latest jupyter datascience docker: [jupyter/datascience-notebook](https://hub.docker.com/r/jupyter/datascience-notebook/). I then access the docker interactively and setup my docker container. These are the steps to start running the interacitve docker container.\n",
    "\n",
    "1. install docker\n",
    "2. `docker pull jupyter/datascience-notebook:8ccdfc1da8d5`\n",
    "3. `docker run -it -p 80:8888 --name io jupyter/datascience-notebook /bin/bash`\n",
    "\n"
   ]
  },
  {
   "cell_type": "markdown",
   "metadata": {},
   "source": [
    "<img src=\"settings.jpg\">"
   ]
  },
  {
   "cell_type": "markdown",
   "metadata": {},
   "source": [
    "# Inside Docker: Install Stuff"
   ]
  },
  {
   "cell_type": "markdown",
   "metadata": {},
   "source": [
    "After running the last line in the terminal u should now be inside the docker container. From here we get to work creating the image that we want."
   ]
  },
  {
   "cell_type": "markdown",
   "metadata": {},
   "source": [
    "## Install [NB-Extensions](https://github.com/ipython-contrib/jupyter_contrib_nbextensions)"
   ]
  },
  {
   "cell_type": "markdown",
   "metadata": {},
   "source": [
    "We install nbextensions. Then we run jupyter on the docker so that we can customize which nb_extensions we want to use. Note, to access the docker got to ur computer's port 8888, and then type the token that is displayed from `jupyter notebook`\n",
    "1. `conda install -y -c damianavila82 rise`\n",
    "2. `conda install -y -c conda-forge jupyter_contrib_nbextensions`\n",
    "2. `cd && jupyter notebook`\n",
    "3. Exit docker with `ctrl-c`"
   ]
  },
  {
   "cell_type": "markdown",
   "metadata": {},
   "source": [
    "### Programmatically Enable Extensions"
   ]
  },
  {
   "cell_type": "markdown",
   "metadata": {},
   "source": [
    "We can also enable exentsions without entering docker with these commands:\n",
    "* `jupyter nbextension enable collapsible_headings/main`\n",
    "* `jupyter nbextension enable help_panel/help_panel`\n",
    "* `jupyter nbextension enable notify/notify`\n",
    "* `jupyter nbextension enable toc2/main`\n",
    "* `jupyter nbextension enable varInspector/main`\n",
    "* `jupyter nbextension enable codefolding/main`\n",
    "* `jupyter nbextension enable hide_header/main`\n",
    "* <small>jupyter nbextension enable nbextensions_configurator/tree_tab/main</small>\n",
    "* `jupyter nbextension enable table_beautifier/main`\n",
    "* `jupyter nbextension enable codefolding/edit`\n",
    "* `jupyter nbextension enable contrib_nbextensions_help_item/main`\n",
    "* <small>jupyter nbextension enable nbextensions_configurator/config_menu/main</small>\n",
    "* `jupyter nbextension enable python-markdown/main`\n",
    "* `jupyter nbextension enable move_selected_cells/main`\n",
    "* `jupyter nbextension enable splitcell/splitcell`\n",
    "* `jupyter nbextension enable tree-filter/index`\n"
   ]
  },
  {
   "cell_type": "markdown",
   "metadata": {},
   "source": [
    "## Install Packages"
   ]
  },
  {
   "cell_type": "markdown",
   "metadata": {},
   "source": [
    "Here we install python packages that are used in io\n",
    "* `pip install ndex2-dev`\n",
    "* `pip install PyGithub`\n",
    "* `pip install timeago`"
   ]
  },
  {
   "cell_type": "markdown",
   "metadata": {},
   "source": [
    "# Inside Docker: Configure Jupyter"
   ]
  },
  {
   "cell_type": "markdown",
   "metadata": {},
   "source": [
    "A lot of extra code has to be written because I couldn't figure out how to pull the cytoscape.js file directly in jupyter. **There should be a better way to do this without downloading cytoscape's js into the docker!**"
   ]
  },
  {
   "cell_type": "markdown",
   "metadata": {},
   "source": [
    "## Setup Location for JS Files"
   ]
  },
  {
   "cell_type": "markdown",
   "metadata": {},
   "source": [
    "Create the folder `/home/jovyan/.js_files` go into that folder and then run the following command ot download javascript for cytoscape with this command:\n",
    "\n",
    "> `curl -O https://cdn.rawgit.com/pupster90/io_docker_setup/8eb4d16e/v1.0.0/cytoscape.min.js`"
   ]
  },
  {
   "cell_type": "markdown",
   "metadata": {},
   "source": [
    "## Setup Jupyter's Configuration File"
   ]
  },
  {
   "cell_type": "markdown",
   "metadata": {},
   "source": [
    "Add the following line to jupyter's config file, located at `/home/jovyan/.jupyter/jupyter_notebook_config.py` \n",
    "\n",
    "> `c.NotebookApp.extra_static_paths = [\"/home/jovyan/.js_files\"]`"
   ]
  },
  {
   "cell_type": "markdown",
   "metadata": {},
   "source": [
    "## Setup custom.js file"
   ]
  },
  {
   "cell_type": "markdown",
   "metadata": {},
   "source": [
    "create a new file called `custom.js` at `home/jovyan/.jupyter/custom/custom.js` and add the following lines to it\n",
    "```javascript\n",
    "// Load in Cytcoscape: There should be a better way to do this!\n",
    "requirejs.config({ paths: {\n",
    "  cytoscape: 'cytoscape.min'\n",
    "} });\n",
    "\n",
    "// Change Text Editor View \n",
    "if( document.getElementById(\"texteditor-container\") != null ){\n",
    "document.getElementById(\"texteditor-container\").className = \"container-fluid\"\n",
    "document.getElementById(\"menubar-container\").className = \"container-fluid\"\n",
    "document.getElementById(\"header-container\").className = \"container-fluid\"\n",
    "document.getElementById(\"texteditor-backdrop\").style.padding = \"0px\"\n",
    "}\n",
    "// Change Terminal View \n",
    "if( document.getElementById(\"terminado-container\") != null ){\n",
    "document.getElementById(\"terminado-container\").className = \"container-fluid\"\n",
    "document.getElementById(\"header-container\").className = \"container-fluid\"\n",
    "document.getElementsByClassName(\"terminado-container-container\")[0].style.padding = \"0px\"\n",
    "}\n",
    "// Make Scrolling Work on Ipad \n",
    "var style = document.createElement(\"style\"); \n",
    "style.innerHTML = \"body {-webkit-overflow-scrolling: touch;}\"\n",
    "document.getElementsByTagName(\"body\")[0].appendChild(style)\n",
    "```"
   ]
  },
  {
   "cell_type": "code",
   "execution_count": null,
   "metadata": {},
   "outputs": [],
   "source": []
  }
 ],
 "metadata": {
  "hide_input": false,
  "kernelspec": {
   "display_name": "Python 3",
   "language": "python",
   "name": "python3"
  },
  "language_info": {
   "codemirror_mode": {
    "name": "ipython",
    "version": 3
   },
   "file_extension": ".py",
   "mimetype": "text/x-python",
   "name": "python",
   "nbconvert_exporter": "python",
   "pygments_lexer": "ipython3",
   "version": "3.6.3"
  },
  "toc": {
   "base_numbering": 1,
   "nav_menu": {},
   "number_sections": true,
   "sideBar": true,
   "skip_h1_title": false,
   "title_cell": "Table of Contents",
   "title_sidebar": "Contents",
   "toc_cell": false,
   "toc_position": {},
   "toc_section_display": true,
   "toc_window_display": false
  },
  "varInspector": {
   "cols": {
    "lenName": 16,
    "lenType": 16,
    "lenVar": 40
   },
   "kernels_config": {
    "python": {
     "delete_cmd_postfix": "",
     "delete_cmd_prefix": "del ",
     "library": "var_list.py",
     "varRefreshCmd": "print(var_dic_list())"
    },
    "r": {
     "delete_cmd_postfix": ") ",
     "delete_cmd_prefix": "rm(",
     "library": "var_list.r",
     "varRefreshCmd": "cat(var_dic_list()) "
    }
   },
   "types_to_exclude": [
    "module",
    "function",
    "builtin_function_or_method",
    "instance",
    "_Feature"
   ],
   "window_display": false
  }
 },
 "nbformat": 4,
 "nbformat_minor": 2
}
